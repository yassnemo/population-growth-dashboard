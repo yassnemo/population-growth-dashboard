{
 "cells": [
  {
   "cell_type": "code",
   "execution_count": null,
   "metadata": {
    "vscode": {
     "languageId": "plaintext"
    }
   },
   "outputs": [],
   "source": [
    "import pandas as pd\n",
    "import plotly.express as px\n",
    "\n",
    "df = pd.read_csv(\"../../data/processed/cleaned_population.csv\")\n",
    "\n",
    "# Example line chart\n",
    "fig = px.line(\n",
    "    df.groupby('Year')['Population'].sum().reset_index(),\n",
    "    x='Year',\n",
    "    y='Population',\n",
    "    title='Global Population Growth'\n",
    ")\n",
    "fig.show()"
   ]
  }
 ],
 "metadata": {
  "language_info": {
   "name": "python"
  }
 },
 "nbformat": 4,
 "nbformat_minor": 2
}
